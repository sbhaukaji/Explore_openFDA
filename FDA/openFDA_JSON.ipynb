{
 "cells": [
  {
   "cell_type": "markdown",
   "metadata": {},
   "source": [
    "## Date: May 28, 2020 \n",
    "## Purpose: Explore openFDA json file \n",
    "## Source: https://open.fda.gov/apis/downloads/"
   ]
  },
  {
   "cell_type": "code",
   "execution_count": 1,
   "metadata": {},
   "outputs": [],
   "source": [
    "import requests\n",
    "import json"
   ]
  },
  {
   "cell_type": "code",
   "execution_count": 2,
   "metadata": {},
   "outputs": [],
   "source": [
    "url = \"https://api.fda.gov/download.json\"\n",
    "result = requests.get(url)"
   ]
  },
  {
   "cell_type": "markdown",
   "metadata": {},
   "source": [
    "Returning 200 means the request was successfully received, understood and accepted"
   ]
  },
  {
   "cell_type": "code",
   "execution_count": 3,
   "metadata": {},
   "outputs": [
    {
     "name": "stdout",
     "output_type": "stream",
     "text": [
      "Result code: 200\n"
     ]
    }
   ],
   "source": [
    "print(\"Result code: {0}\".format(result.status_code))"
   ]
  },
  {
   "cell_type": "markdown",
   "metadata": {},
   "source": [
    "dataobj returns 'meta' and 'results' as dict type <br>\n",
    "'results' key contains 1) device, 2) food, 3) other, 4) drug, and 5) animalandveterinary <br>\n",
    "'device' key contains 1) 510k, 2) classification, 3) enforcement, 4) recall, 5) registrationlisting, 6) pma, 7) udi, 8) events <br>\n",
    "'food' key contains 1) enforcement, 2) event <br>\n",
    "'other' key contains 1) substance, 2) nsde <br>\n",
    "'drug' key contains 1) enforcement, 2) ndc, 3) event, 4) label\n",
    "'animalandveterinary' key contains 1) event"
   ]
  },
  {
   "cell_type": "code",
   "execution_count": 4,
   "metadata": {},
   "outputs": [],
   "source": [
    "dataobj = result.json()"
   ]
  },
  {
   "cell_type": "markdown",
   "metadata": {},
   "source": [
    "json data are listed as nested dict type <br>\n",
    "the variables contains 1) size_mb, 2) records, 3) display_name, 4) file <br>\n",
    "keys that contain dict inside list are listed using fucntion and for loop (eg code line 6 registrationlisting())"
   ]
  },
  {
   "cell_type": "code",
   "execution_count": 5,
   "metadata": {},
   "outputs": [],
   "source": [
    "device_five10k = dataobj['results']['device']['510k']['partitions'][0]\n",
    "device_classification = dataobj['results']['device']['classification']['partitions'][0]\n",
    "device_enforcement = dataobj['results']['device']['enforcement']['partitions'][0]\n",
    "device_recall = dataobj['results']['device']['recall']['partitions'][0]"
   ]
  },
  {
   "cell_type": "code",
   "execution_count": 6,
   "metadata": {},
   "outputs": [],
   "source": [
    "def registrationlisting():\n",
    "    registrationlisting = registrationlisting = dataobj['results']['device']['registrationlisting']['partitions']\n",
    "    for partitions in registrationlisting:\n",
    "        size_mb = partitions['size_mb']\n",
    "        records = partitions['records']\n",
    "        display_name = partitions['display_name']\n",
    "        file = partitions['file']\n",
    "        #print(size_mb,records,display_name,file)\n",
    "registrationlisting()"
   ]
  },
  {
   "cell_type": "code",
   "execution_count": 7,
   "metadata": {},
   "outputs": [],
   "source": [
    "pma = dataobj['results']['device']['pma']['partitions'][0]"
   ]
  },
  {
   "cell_type": "code",
   "execution_count": 8,
   "metadata": {},
   "outputs": [],
   "source": [
    "def udi():\n",
    "    udi = dataobj['results']['device']['udi']['partitions']\n",
    "    for partitions in udi:\n",
    "        size_mb = partitions['size_mb']\n",
    "        records = partitions['records']\n",
    "        display_name = partitions['display_name']\n",
    "        file = partitions['file']\n",
    "        #print(size_mb,records,display_name,file)\n",
    "    \n",
    "udi()"
   ]
  },
  {
   "cell_type": "code",
   "execution_count": 9,
   "metadata": {},
   "outputs": [],
   "source": [
    "def fda_events():\n",
    "    event = dataobj['results']['device']['event']['partitions']\n",
    "    for partitions in event:\n",
    "        size_mb = partitions['size_mb']\n",
    "        records = partitions['records']\n",
    "        display_name = partitions['display_name']\n",
    "        file = partitions['file']\n",
    "        #print(size_mb,records,display_name,file)\n",
    "    \n",
    "fda_events()"
   ]
  },
  {
   "cell_type": "code",
   "execution_count": 10,
   "metadata": {},
   "outputs": [],
   "source": [
    "food = dataobj['results']['food']"
   ]
  },
  {
   "cell_type": "code",
   "execution_count": 11,
   "metadata": {},
   "outputs": [],
   "source": [
    "other = dataobj['results']['other']\n",
    "other_substance = other['substance']['partitions']\n",
    "other_nsde = other['nsde']['partitions']"
   ]
  },
  {
   "cell_type": "code",
   "execution_count": 12,
   "metadata": {},
   "outputs": [],
   "source": [
    "drug = dataobj['results']['drug']\n",
    "drug_enforcement = drug['enforcement']['partitions']\n",
    "drug_ndc = drug['ndc']['partitions']"
   ]
  },
  {
   "cell_type": "code",
   "execution_count": 13,
   "metadata": {},
   "outputs": [],
   "source": [
    "def drug_event():\n",
    "    drug_event = drug['event']['partitions']\n",
    "    for partitions in drug_event:\n",
    "        size_mb = partitions['size_mb']\n",
    "        records = partitions['records']\n",
    "        display_name = partitions['display_name']\n",
    "        file = partitions['file']\n",
    "        #print(size_mb,records,display_name,file)\n",
    "drug_event()"
   ]
  },
  {
   "cell_type": "code",
   "execution_count": 14,
   "metadata": {},
   "outputs": [],
   "source": [
    "def drug_label():\n",
    "    drug_label = drug['label']['partitions']\n",
    "    for partitions in drug_label:\n",
    "        size_mb = partitions['size_mb']\n",
    "        records = partitions['records']\n",
    "        display_name = partitions['display_name']\n",
    "        file = partitions['file']\n",
    "        #print(size_mb,records,display_name,file)\n",
    "drug_label()"
   ]
  },
  {
   "cell_type": "code",
   "execution_count": 15,
   "metadata": {},
   "outputs": [],
   "source": [
    "def animalandveterinary():\n",
    "    animalandveterinary = dataobj['results']['animalandveterinary']['event']['partitions']\n",
    "    for partitions in animalandveterinary:\n",
    "        size_mb = partitions['size_mb']\n",
    "        records = partitions['records']\n",
    "        display_name = partitions['display_name']\n",
    "        file = partitions['file']\n",
    "        #print(size_mb,records,display_name,file)\n",
    "\n",
    "animalandveterinary()"
   ]
  }
 ],
 "metadata": {
  "kernelspec": {
   "display_name": "Python 3",
   "language": "python",
   "name": "python3"
  },
  "language_info": {
   "codemirror_mode": {
    "name": "ipython",
    "version": 3
   },
   "file_extension": ".py",
   "mimetype": "text/x-python",
   "name": "python",
   "nbconvert_exporter": "python",
   "pygments_lexer": "ipython3",
   "version": "3.7.4"
  }
 },
 "nbformat": 4,
 "nbformat_minor": 2
}
